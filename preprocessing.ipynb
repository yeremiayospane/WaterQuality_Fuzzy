{
 "cells": [
  {
   "cell_type": "code",
   "execution_count": 1,
   "id": "initial_id",
   "metadata": {
    "collapsed": true,
    "ExecuteTime": {
     "end_time": "2023-11-09T17:32:39.465941600Z",
     "start_time": "2023-11-09T17:32:37.382731900Z"
    }
   },
   "outputs": [],
   "source": [
    "import pandas as pd"
   ]
  },
  {
   "cell_type": "code",
   "execution_count": 2,
   "outputs": [
    {
     "data": {
      "text/plain": "   Year                            Sample Location  Lab code      Date  Temp  \\\n0  2017  Karnafully River CUFL side  Anowara, Ctg.       403  5/1/2017  22.2   \n1  2017   Karnafully River TSP Side, Patenga, Ctg.       404  5/1/2017  22.2   \n2  2017  Karnafully River CUFL side  Anowara, Ctg.       437  5/2/2017  21.1   \n3  2017   Karnafully River TSP Side, Patenga, Ctg.       438  5/2/2017  21.1   \n4  2017   Karnafully River TSP Side, Patenga, Ctg.       471  7/3/2017  25.6   \n\n    PH EC(µS/cm)  TS(mg/l)  TDS(mg/l)  SS(mg/l)  DO(mg/l)  Salinity(%)  \n0  8.1     20450   10414.0    10228.0       186       5.6         14.2  \n1  7.9     19984   10190.0     9992.0       198       6.1         13.8  \n2  7.3     22580   11494.0    11292.0       202       4.8         14.8  \n3  7.9     21356   10906.0    10678.0       228       5.4         13.6  \n4  7.3     26330   13476.0    13168.0       308       6.1         17.2  ",
      "text/html": "<div>\n<style scoped>\n    .dataframe tbody tr th:only-of-type {\n        vertical-align: middle;\n    }\n\n    .dataframe tbody tr th {\n        vertical-align: top;\n    }\n\n    .dataframe thead th {\n        text-align: right;\n    }\n</style>\n<table border=\"1\" class=\"dataframe\">\n  <thead>\n    <tr style=\"text-align: right;\">\n      <th></th>\n      <th>Year</th>\n      <th>Sample Location</th>\n      <th>Lab code</th>\n      <th>Date</th>\n      <th>Temp</th>\n      <th>PH</th>\n      <th>EC(µS/cm)</th>\n      <th>TS(mg/l)</th>\n      <th>TDS(mg/l)</th>\n      <th>SS(mg/l)</th>\n      <th>DO(mg/l)</th>\n      <th>Salinity(%)</th>\n    </tr>\n  </thead>\n  <tbody>\n    <tr>\n      <th>0</th>\n      <td>2017</td>\n      <td>Karnafully River CUFL side  Anowara, Ctg.</td>\n      <td>403</td>\n      <td>5/1/2017</td>\n      <td>22.2</td>\n      <td>8.1</td>\n      <td>20450</td>\n      <td>10414.0</td>\n      <td>10228.0</td>\n      <td>186</td>\n      <td>5.6</td>\n      <td>14.2</td>\n    </tr>\n    <tr>\n      <th>1</th>\n      <td>2017</td>\n      <td>Karnafully River TSP Side, Patenga, Ctg.</td>\n      <td>404</td>\n      <td>5/1/2017</td>\n      <td>22.2</td>\n      <td>7.9</td>\n      <td>19984</td>\n      <td>10190.0</td>\n      <td>9992.0</td>\n      <td>198</td>\n      <td>6.1</td>\n      <td>13.8</td>\n    </tr>\n    <tr>\n      <th>2</th>\n      <td>2017</td>\n      <td>Karnafully River CUFL side  Anowara, Ctg.</td>\n      <td>437</td>\n      <td>5/2/2017</td>\n      <td>21.1</td>\n      <td>7.3</td>\n      <td>22580</td>\n      <td>11494.0</td>\n      <td>11292.0</td>\n      <td>202</td>\n      <td>4.8</td>\n      <td>14.8</td>\n    </tr>\n    <tr>\n      <th>3</th>\n      <td>2017</td>\n      <td>Karnafully River TSP Side, Patenga, Ctg.</td>\n      <td>438</td>\n      <td>5/2/2017</td>\n      <td>21.1</td>\n      <td>7.9</td>\n      <td>21356</td>\n      <td>10906.0</td>\n      <td>10678.0</td>\n      <td>228</td>\n      <td>5.4</td>\n      <td>13.6</td>\n    </tr>\n    <tr>\n      <th>4</th>\n      <td>2017</td>\n      <td>Karnafully River TSP Side, Patenga, Ctg.</td>\n      <td>471</td>\n      <td>7/3/2017</td>\n      <td>25.6</td>\n      <td>7.3</td>\n      <td>26330</td>\n      <td>13476.0</td>\n      <td>13168.0</td>\n      <td>308</td>\n      <td>6.1</td>\n      <td>17.2</td>\n    </tr>\n  </tbody>\n</table>\n</div>"
     },
     "execution_count": 2,
     "metadata": {},
     "output_type": "execute_result"
    }
   ],
   "source": [
    "df = pd.read_csv('DOE.csv', encoding='unicode-escape')\n",
    "df.head()"
   ],
   "metadata": {
    "collapsed": false,
    "ExecuteTime": {
     "end_time": "2023-11-09T17:32:39.512811300Z",
     "start_time": "2023-11-09T17:32:39.469962700Z"
    }
   },
   "id": "67964ebf9e010fc7"
  },
  {
   "cell_type": "code",
   "execution_count": 3,
   "outputs": [
    {
     "data": {
      "text/plain": "     Temp    PH EC(µS/cm)\n0    22.2  8.10     20450\n1    22.2  7.90     19984\n2    21.1  7.30     22580\n3    21.1  7.90     21356\n4    25.6  7.30     26330\n..    ...   ...       ...\n213  23.0  7.53     19110\n214  23.5  7.18       538\n215  23.5  7.21       459\n216  22.5  7.41       358\n217  22.5  7.28       523\n\n[218 rows x 3 columns]",
      "text/html": "<div>\n<style scoped>\n    .dataframe tbody tr th:only-of-type {\n        vertical-align: middle;\n    }\n\n    .dataframe tbody tr th {\n        vertical-align: top;\n    }\n\n    .dataframe thead th {\n        text-align: right;\n    }\n</style>\n<table border=\"1\" class=\"dataframe\">\n  <thead>\n    <tr style=\"text-align: right;\">\n      <th></th>\n      <th>Temp</th>\n      <th>PH</th>\n      <th>EC(µS/cm)</th>\n    </tr>\n  </thead>\n  <tbody>\n    <tr>\n      <th>0</th>\n      <td>22.2</td>\n      <td>8.10</td>\n      <td>20450</td>\n    </tr>\n    <tr>\n      <th>1</th>\n      <td>22.2</td>\n      <td>7.90</td>\n      <td>19984</td>\n    </tr>\n    <tr>\n      <th>2</th>\n      <td>21.1</td>\n      <td>7.30</td>\n      <td>22580</td>\n    </tr>\n    <tr>\n      <th>3</th>\n      <td>21.1</td>\n      <td>7.90</td>\n      <td>21356</td>\n    </tr>\n    <tr>\n      <th>4</th>\n      <td>25.6</td>\n      <td>7.30</td>\n      <td>26330</td>\n    </tr>\n    <tr>\n      <th>...</th>\n      <td>...</td>\n      <td>...</td>\n      <td>...</td>\n    </tr>\n    <tr>\n      <th>213</th>\n      <td>23.0</td>\n      <td>7.53</td>\n      <td>19110</td>\n    </tr>\n    <tr>\n      <th>214</th>\n      <td>23.5</td>\n      <td>7.18</td>\n      <td>538</td>\n    </tr>\n    <tr>\n      <th>215</th>\n      <td>23.5</td>\n      <td>7.21</td>\n      <td>459</td>\n    </tr>\n    <tr>\n      <th>216</th>\n      <td>22.5</td>\n      <td>7.41</td>\n      <td>358</td>\n    </tr>\n    <tr>\n      <th>217</th>\n      <td>22.5</td>\n      <td>7.28</td>\n      <td>523</td>\n    </tr>\n  </tbody>\n</table>\n<p>218 rows × 3 columns</p>\n</div>"
     },
     "execution_count": 3,
     "metadata": {},
     "output_type": "execute_result"
    }
   ],
   "source": [
    "var_col = ['Temp', 'PH', 'EC(µS/cm)']\n",
    "df = df[var_col]\n",
    "df"
   ],
   "metadata": {
    "collapsed": false,
    "ExecuteTime": {
     "end_time": "2023-11-09T17:32:39.539282800Z",
     "start_time": "2023-11-09T17:32:39.500319400Z"
    }
   },
   "id": "cc4c746f9977ad78"
  },
  {
   "cell_type": "code",
   "execution_count": 4,
   "outputs": [
    {
     "name": "stdout",
     "output_type": "stream",
     "text": [
      "<class 'pandas.core.frame.DataFrame'>\n",
      "RangeIndex: 218 entries, 0 to 217\n",
      "Data columns (total 3 columns):\n",
      " #   Column     Non-Null Count  Dtype  \n",
      "---  ------     --------------  -----  \n",
      " 0   Temp       218 non-null    float64\n",
      " 1   PH         218 non-null    float64\n",
      " 2   EC(µS/cm)  218 non-null    object \n",
      "dtypes: float64(2), object(1)\n",
      "memory usage: 5.2+ KB\n"
     ]
    }
   ],
   "source": [
    "df.info()"
   ],
   "metadata": {
    "collapsed": false,
    "ExecuteTime": {
     "end_time": "2023-11-09T17:32:39.566469900Z",
     "start_time": "2023-11-09T17:32:39.514871700Z"
    }
   },
   "id": "43474d72095444ef"
  },
  {
   "cell_type": "code",
   "execution_count": 5,
   "outputs": [],
   "source": [
    "df['EC(µS/cm)'] = df['EC(µS/cm)'].replace(r'\\D', '', regex=True)\n",
    "df['EC(µS/cm)'] = pd.to_numeric(df['EC(µS/cm)'], errors='coerce')\n",
    "df['EC(µS/cm)'] /= 100"
   ],
   "metadata": {
    "collapsed": false,
    "ExecuteTime": {
     "end_time": "2023-11-09T17:32:39.614049100Z",
     "start_time": "2023-11-09T17:32:39.531449400Z"
    }
   },
   "id": "49ec13e84c1a4016"
  },
  {
   "cell_type": "code",
   "execution_count": 6,
   "outputs": [],
   "source": [
    "for i in var_col:\n",
    "    Q1 = df[i].quantile(0.25)\n",
    "    Q3 = df[i].quantile(0.75)\n",
    "    IQR = Q3 - Q1\n",
    "    maximum = Q3 + (1.5 * IQR)\n",
    "    minimum = Q1 - (1.5 * IQR)\n",
    "    kondisi_lower_than = df[i] < minimum\n",
    "    kondisi_more_than = df[i] > maximum\n",
    "    df[i] = df[i].mask(cond=kondisi_more_than, other=maximum)\n",
    "    df[i] = df[i].mask(cond=kondisi_lower_than, other=minimum)"
   ],
   "metadata": {
    "collapsed": false,
    "ExecuteTime": {
     "end_time": "2023-11-09T17:32:39.615061500Z",
     "start_time": "2023-11-09T17:32:39.543649900Z"
    }
   },
   "id": "962fd2bf7ff59f5c"
  },
  {
   "cell_type": "code",
   "execution_count": 7,
   "outputs": [
    {
     "data": {
      "text/plain": "             Temp          PH   EC(µS/cm)\ncount  218.000000  218.000000  218.000000\nmean    25.059174    7.526680   94.725034\nstd      3.317046    0.394099  102.054210\nmin     20.000000    6.461250    1.420000\n25%     22.500000    7.252500    6.495000\n50%     23.750000    7.570000   40.310000\n75%     28.375000    7.780000  180.880000\nmax     32.400000    8.571250  442.457500",
      "text/html": "<div>\n<style scoped>\n    .dataframe tbody tr th:only-of-type {\n        vertical-align: middle;\n    }\n\n    .dataframe tbody tr th {\n        vertical-align: top;\n    }\n\n    .dataframe thead th {\n        text-align: right;\n    }\n</style>\n<table border=\"1\" class=\"dataframe\">\n  <thead>\n    <tr style=\"text-align: right;\">\n      <th></th>\n      <th>Temp</th>\n      <th>PH</th>\n      <th>EC(µS/cm)</th>\n    </tr>\n  </thead>\n  <tbody>\n    <tr>\n      <th>count</th>\n      <td>218.000000</td>\n      <td>218.000000</td>\n      <td>218.000000</td>\n    </tr>\n    <tr>\n      <th>mean</th>\n      <td>25.059174</td>\n      <td>7.526680</td>\n      <td>94.725034</td>\n    </tr>\n    <tr>\n      <th>std</th>\n      <td>3.317046</td>\n      <td>0.394099</td>\n      <td>102.054210</td>\n    </tr>\n    <tr>\n      <th>min</th>\n      <td>20.000000</td>\n      <td>6.461250</td>\n      <td>1.420000</td>\n    </tr>\n    <tr>\n      <th>25%</th>\n      <td>22.500000</td>\n      <td>7.252500</td>\n      <td>6.495000</td>\n    </tr>\n    <tr>\n      <th>50%</th>\n      <td>23.750000</td>\n      <td>7.570000</td>\n      <td>40.310000</td>\n    </tr>\n    <tr>\n      <th>75%</th>\n      <td>28.375000</td>\n      <td>7.780000</td>\n      <td>180.880000</td>\n    </tr>\n    <tr>\n      <th>max</th>\n      <td>32.400000</td>\n      <td>8.571250</td>\n      <td>442.457500</td>\n    </tr>\n  </tbody>\n</table>\n</div>"
     },
     "execution_count": 7,
     "metadata": {},
     "output_type": "execute_result"
    }
   ],
   "source": [
    "df.describe()"
   ],
   "metadata": {
    "collapsed": false,
    "ExecuteTime": {
     "end_time": "2023-11-09T17:32:39.616068300Z",
     "start_time": "2023-11-09T17:32:39.562264600Z"
    }
   },
   "id": "1a3a0cbe44493c9c"
  }
 ],
 "metadata": {
  "kernelspec": {
   "display_name": "Python 3",
   "language": "python",
   "name": "python3"
  },
  "language_info": {
   "codemirror_mode": {
    "name": "ipython",
    "version": 2
   },
   "file_extension": ".py",
   "mimetype": "text/x-python",
   "name": "python",
   "nbconvert_exporter": "python",
   "pygments_lexer": "ipython2",
   "version": "2.7.6"
  }
 },
 "nbformat": 4,
 "nbformat_minor": 5
}
