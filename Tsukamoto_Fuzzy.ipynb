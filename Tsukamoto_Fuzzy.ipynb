{
 "cells": [
  {
   "cell_type": "code",
   "execution_count": 29,
   "outputs": [],
   "source": [
    "def fuzzifikasi(variable, value, sets):\n",
    "    membership_values = {}\n",
    "    total_membership = 0\n",
    "\n",
    "    for set_name, (a, b, c) in sets.items():\n",
    "        if value <= a or value >= c:\n",
    "            membership_values[set_name] = 0\n",
    "        elif a < value <= b:\n",
    "            membership_values[set_name] = (value - a) / (b - a)\n",
    "        elif b < value < c:\n",
    "            membership_values[set_name] = (c - value) / (c - b)\n",
    "\n",
    "        total_membership += membership_values[set_name]\n",
    "\n",
    "    # Normalisasi fungsi keanggotaan\n",
    "    for set_name in membership_values:\n",
    "        if total_membership != 0:\n",
    "            membership_values[set_name] /= total_membership\n",
    "\n",
    "    return membership_values"
   ],
   "metadata": {
    "collapsed": false,
    "ExecuteTime": {
     "end_time": "2023-11-18T14:15:24.704785Z",
     "start_time": "2023-11-18T14:15:24.683694Z"
    }
   },
   "id": "aeccabf63acd0c0f"
  },
  {
   "cell_type": "code",
   "execution_count": 30,
   "outputs": [],
   "source": [
    "def inferensi(pH, temperature, conductivity):\n",
    "    rules = {\n",
    "        'Buruk1': min(pH['Asam'], temperature['Dingin'], conductivity['Rendah']),\n",
    "        'Buruk2': min(pH['Asam'], temperature['Dingin'], conductivity['Sedang']),\n",
    "        'Buruk3': min(pH['Asam'], temperature['Dingin'], conductivity['Tinggi']),\n",
    "        'Buruk4': min(pH['Asam'], temperature['Sedang'], conductivity['Rendah']),\n",
    "        'Cukup1': min(pH['Asam'], temperature['Sedang'], conductivity['Sedang']),\n",
    "        'Cukup2': min(pH['Asam'], temperature['Sedang'], conductivity['Tinggi']),\n",
    "        'Buruk5': min(pH['Asam'], temperature['Panas'], conductivity['Rendah']),\n",
    "        'Cukup3': min(pH['Asam'], temperature['Panas'], conductivity['Sedang']),\n",
    "        'Baik1': min(pH['Asam'], temperature['Panas'], conductivity['Tinggi']),\n",
    "        'Buruk6': min(pH['Netral'], temperature['Dingin'], conductivity['Rendah']),\n",
    "        'Buruk7': min(pH['Netral'], temperature['Dingin'], conductivity['Sedang']),\n",
    "        'Cukup4': min(pH['Netral'], temperature['Dingin'], conductivity['Tinggi']),\n",
    "        'Cukup5': min(pH['Netral'], temperature['Sedang'], conductivity['Rendah']),\n",
    "        'Cukup6': min(pH['Netral'], temperature['Sedang'], conductivity['Sedang']),\n",
    "        'Baik2': min(pH['Netral'], temperature['Sedang'], conductivity['Tinggi']),\n",
    "        'Cukup7': min(pH['Netral'], temperature['Panas'], conductivity['Rendah']),\n",
    "        'Baik3': min(pH['Netral'], temperature['Panas'], conductivity['Sedang']),\n",
    "        'Baik4': min(pH['Netral'], temperature['Panas'], conductivity['Tinggi']),\n",
    "        'Buruk8': min(pH['Basa'], temperature['Dingin'], conductivity['Rendah']),\n",
    "        'Cukup8': min(pH['Basa'], temperature['Dingin'], conductivity['Sedang']),\n",
    "        'Baik5': min(pH['Basa'], temperature['Dingin'], conductivity['Tinggi']),\n",
    "        'Cukup9': min(pH['Basa'], temperature['Sedang'], conductivity['Rendah']),\n",
    "        'Baik6': min(pH['Basa'], temperature['Sedang'], conductivity['Sedang']),\n",
    "        'Baik7': min(pH['Basa'], temperature['Sedang'], conductivity['Tinggi']),\n",
    "        'Baik8': min(pH['Basa'], temperature['Panas'], conductivity['Rendah']),\n",
    "        'Baik8': min(pH['Basa'], temperature['Panas'], conductivity['Sedang']),\n",
    "        'Baik9': min(pH['Basa'], temperature['Panas'], conductivity['Tinggi']),\n",
    "    }\n",
    "\n",
    "    result = max(rules, key=rules.get)\n",
    "\n",
    "    if rules[result] > 0.0:\n",
    "        return {result: rules[result]}\n",
    "    else:\n",
    "        return {result: 0.0}"
   ],
   "metadata": {
    "collapsed": false,
    "ExecuteTime": {
     "end_time": "2023-11-18T14:15:24.762414100Z",
     "start_time": "2023-11-18T14:15:24.694584500Z"
    }
   },
   "id": "2d5ef13278e62dd7"
  },
  {
   "cell_type": "code",
   "execution_count": 31,
   "outputs": [],
   "source": [
    "def defuzzifikasi(inference_results):\n",
    "    return list(inference_results.keys())[0]"
   ],
   "metadata": {
    "collapsed": false,
    "ExecuteTime": {
     "end_time": "2023-11-18T14:15:24.767421300Z",
     "start_time": "2023-11-18T14:15:24.719981500Z"
    }
   },
   "id": "88d9e3f6f3c0e03"
  },
  {
   "cell_type": "code",
   "execution_count": 32,
   "outputs": [],
   "source": [
    "def apply_fuzzy_logic(row):\n",
    "    pH_sets = {'Asam': (0, 0, 6.5), 'Netral': (6.5, 8.5, 8.5), 'Basa': (8.5, 14, 14)}\n",
    "    temperature_sets = {'Dingin': (0, 0, 15), 'Sedang': (15, 25, 100), 'Panas': (25, 100, 100)}\n",
    "    conductivity_sets = {'Rendah': (0, 0, 250), 'Sedang': (250, 500, 500), 'Tinggi': (500, float('inf'), float('inf'))}\n",
    "    \n",
    "    pH_membership = fuzzifikasi('pH', row['PH'], pH_sets)\n",
    "    temperature_membership = fuzzifikasi('temperature', row['Temp'], temperature_sets)\n",
    "    conductivity_membership = fuzzifikasi('conductivity', row['EC(µS/cm)'], conductivity_sets)\n",
    "\n",
    "    inference_result = inferensi(pH_membership, temperature_membership, conductivity_membership)\n",
    "    defuzzified_value = defuzzifikasi(inference_result)\n",
    "\n",
    "    return defuzzified_value"
   ],
   "metadata": {
    "collapsed": false,
    "ExecuteTime": {
     "end_time": "2023-11-18T14:15:24.767421300Z",
     "start_time": "2023-11-18T14:15:24.740199700Z"
    }
   },
   "id": "424569e52375a719"
  },
  {
   "cell_type": "code",
   "execution_count": 33,
   "outputs": [],
   "source": [
    "def main():\n",
    "    # Input\n",
    "    # pH_value = float(input(\"Masukkan nilai pH (0-14): \"))\n",
    "    # temperature_value = float(input(\"Masukkan nilai Temperatur (0-100): \"))\n",
    "    # conductivity_value = float(input(\"Masukkan nilai Konduktivitas Listrik (0-inf): \"))\n",
    "    pH_value = 12\n",
    "    temperature_value = 60\n",
    "    conductivity_value = 200\n",
    "\n",
    "    # Fuzzifikasi\n",
    "    pH_sets = {'Asam': (0, 0, 6.5), 'Netral': (6.5, 8.5, 8.5), 'Basa': (8.5, 14, 14)}\n",
    "    temperature_sets = {'Dingin': (0, 0, 15), 'Sedang': (15, 25, 100), 'Panas': (25, 100, 100)}\n",
    "    conductivity_sets = {'Rendah': (0, 0, 250), 'Sedang': (250, 500, 500), 'Tinggi': (500, float('inf'), float('inf'))}\n",
    "\n",
    "    pH_membership = fuzzifikasi('pH', pH_value, pH_sets)\n",
    "    temperature_membership = fuzzifikasi('temperature', temperature_value, temperature_sets)\n",
    "    conductivity_membership = fuzzifikasi('conductivity', conductivity_value, conductivity_sets)\n",
    "\n",
    "    print(\"\\nFungsi Keanggotaan:\")\n",
    "    print(\"pH:\", pH_membership)\n",
    "    print(\"Temperatur:\", temperature_membership)\n",
    "    print(\"Konduktivitas Listrik:\", conductivity_membership)\n",
    "\n",
    "    # Inferensi\n",
    "    inference_result = inferensi(pH_membership, temperature_membership, conductivity_membership)\n",
    "    print(\"\\nHasil Inferensi:\")\n",
    "    print(str(inference_result))\n",
    "\n",
    "    # Defuzzifikasi\n",
    "    defuzzified_value = defuzzifikasi(inference_result)\n",
    "    print(\"\\nHasil Defuzzifikasi (Kualitas Air):\", str(defuzzified_value))"
   ],
   "metadata": {
    "collapsed": false,
    "ExecuteTime": {
     "end_time": "2023-11-18T14:15:24.767421300Z",
     "start_time": "2023-11-18T14:15:24.756789Z"
    }
   },
   "id": "ab045d2f1d0033f2"
  },
  {
   "cell_type": "code",
   "execution_count": 34,
   "outputs": [
    {
     "name": "stdout",
     "output_type": "stream",
     "text": [
      "\n",
      "Fungsi Keanggotaan:\n",
      "pH: {'Asam': 0.0, 'Netral': 0.0, 'Basa': 1.0}\n",
      "Temperatur: {'Dingin': 0.0, 'Sedang': 0.5333333333333333, 'Panas': 0.4666666666666667}\n",
      "Konduktivitas Listrik: {'Rendah': 1.0, 'Sedang': 0.0, 'Tinggi': 0.0}\n",
      "\n",
      "Hasil Inferensi:\n",
      "{'Cukup9': 0.5333333333333333}\n",
      "\n",
      "Hasil Defuzzifikasi (Kualitas Air): Cukup9\n"
     ]
    }
   ],
   "source": [
    "if __name__ == \"__main__\":\n",
    "    main()"
   ],
   "metadata": {
    "collapsed": false,
    "ExecuteTime": {
     "end_time": "2023-11-18T14:15:24.781666900Z",
     "start_time": "2023-11-18T14:15:24.767421300Z"
    }
   },
   "id": "fba6c439806aa78c"
  },
  {
   "cell_type": "code",
   "execution_count": 35,
   "outputs": [
    {
     "data": {
      "text/plain": "   Temp   PH  EC(µS/cm)\n0  22.2  8.1     204.50\n1  22.2  7.9     199.84\n2  21.1  7.3     225.80\n3  21.1  7.9     213.56\n4  25.6  7.3     263.30",
      "text/html": "<div>\n<style scoped>\n    .dataframe tbody tr th:only-of-type {\n        vertical-align: middle;\n    }\n\n    .dataframe tbody tr th {\n        vertical-align: top;\n    }\n\n    .dataframe thead th {\n        text-align: right;\n    }\n</style>\n<table border=\"1\" class=\"dataframe\">\n  <thead>\n    <tr style=\"text-align: right;\">\n      <th></th>\n      <th>Temp</th>\n      <th>PH</th>\n      <th>EC(µS/cm)</th>\n    </tr>\n  </thead>\n  <tbody>\n    <tr>\n      <th>0</th>\n      <td>22.2</td>\n      <td>8.1</td>\n      <td>204.50</td>\n    </tr>\n    <tr>\n      <th>1</th>\n      <td>22.2</td>\n      <td>7.9</td>\n      <td>199.84</td>\n    </tr>\n    <tr>\n      <th>2</th>\n      <td>21.1</td>\n      <td>7.3</td>\n      <td>225.80</td>\n    </tr>\n    <tr>\n      <th>3</th>\n      <td>21.1</td>\n      <td>7.9</td>\n      <td>213.56</td>\n    </tr>\n    <tr>\n      <th>4</th>\n      <td>25.6</td>\n      <td>7.3</td>\n      <td>263.30</td>\n    </tr>\n  </tbody>\n</table>\n</div>"
     },
     "execution_count": 35,
     "metadata": {},
     "output_type": "execute_result"
    }
   ],
   "source": [
    "import pandas as pd\n",
    "\n",
    "datasets = pd.read_csv('df.csv')\n",
    "datasets.drop('Unnamed: 0', axis=1, inplace=True)\n",
    "datasets.head()"
   ],
   "metadata": {
    "collapsed": false,
    "ExecuteTime": {
     "end_time": "2023-11-18T14:15:25.780006900Z",
     "start_time": "2023-11-18T14:15:24.782676400Z"
    }
   },
   "id": "b26c612d21bd6f6b"
  },
  {
   "cell_type": "code",
   "execution_count": 36,
   "outputs": [],
   "source": [
    "datasets['Fuzzy_Result'] = datasets.apply(apply_fuzzy_logic, axis=1)"
   ],
   "metadata": {
    "collapsed": false,
    "ExecuteTime": {
     "end_time": "2023-11-18T14:15:25.856950900Z",
     "start_time": "2023-11-18T14:15:25.778011100Z"
    }
   },
   "id": "8f2746efcef99834"
  },
  {
   "cell_type": "code",
   "execution_count": 37,
   "outputs": [
    {
     "data": {
      "text/plain": "     Temp    PH  EC(µS/cm) Fuzzy_Result\n0    22.2  8.10     204.50       Cukup5\n1    22.2  7.90     199.84       Cukup5\n2    21.1  7.30     225.80       Cukup5\n3    21.1  7.90     213.56       Cukup5\n4    25.6  7.30     263.30       Cukup6\n..    ...   ...        ...          ...\n213  23.0  7.53     191.10       Cukup5\n214  23.5  7.18       5.38       Cukup5\n215  23.5  7.21       4.59       Cukup5\n216  22.5  7.41       3.58       Cukup5\n217  22.5  7.28       5.23       Cukup5\n\n[218 rows x 4 columns]",
      "text/html": "<div>\n<style scoped>\n    .dataframe tbody tr th:only-of-type {\n        vertical-align: middle;\n    }\n\n    .dataframe tbody tr th {\n        vertical-align: top;\n    }\n\n    .dataframe thead th {\n        text-align: right;\n    }\n</style>\n<table border=\"1\" class=\"dataframe\">\n  <thead>\n    <tr style=\"text-align: right;\">\n      <th></th>\n      <th>Temp</th>\n      <th>PH</th>\n      <th>EC(µS/cm)</th>\n      <th>Fuzzy_Result</th>\n    </tr>\n  </thead>\n  <tbody>\n    <tr>\n      <th>0</th>\n      <td>22.2</td>\n      <td>8.10</td>\n      <td>204.50</td>\n      <td>Cukup5</td>\n    </tr>\n    <tr>\n      <th>1</th>\n      <td>22.2</td>\n      <td>7.90</td>\n      <td>199.84</td>\n      <td>Cukup5</td>\n    </tr>\n    <tr>\n      <th>2</th>\n      <td>21.1</td>\n      <td>7.30</td>\n      <td>225.80</td>\n      <td>Cukup5</td>\n    </tr>\n    <tr>\n      <th>3</th>\n      <td>21.1</td>\n      <td>7.90</td>\n      <td>213.56</td>\n      <td>Cukup5</td>\n    </tr>\n    <tr>\n      <th>4</th>\n      <td>25.6</td>\n      <td>7.30</td>\n      <td>263.30</td>\n      <td>Cukup6</td>\n    </tr>\n    <tr>\n      <th>...</th>\n      <td>...</td>\n      <td>...</td>\n      <td>...</td>\n      <td>...</td>\n    </tr>\n    <tr>\n      <th>213</th>\n      <td>23.0</td>\n      <td>7.53</td>\n      <td>191.10</td>\n      <td>Cukup5</td>\n    </tr>\n    <tr>\n      <th>214</th>\n      <td>23.5</td>\n      <td>7.18</td>\n      <td>5.38</td>\n      <td>Cukup5</td>\n    </tr>\n    <tr>\n      <th>215</th>\n      <td>23.5</td>\n      <td>7.21</td>\n      <td>4.59</td>\n      <td>Cukup5</td>\n    </tr>\n    <tr>\n      <th>216</th>\n      <td>22.5</td>\n      <td>7.41</td>\n      <td>3.58</td>\n      <td>Cukup5</td>\n    </tr>\n    <tr>\n      <th>217</th>\n      <td>22.5</td>\n      <td>7.28</td>\n      <td>5.23</td>\n      <td>Cukup5</td>\n    </tr>\n  </tbody>\n</table>\n<p>218 rows × 4 columns</p>\n</div>"
     },
     "execution_count": 37,
     "metadata": {},
     "output_type": "execute_result"
    }
   ],
   "source": [
    "datasets"
   ],
   "metadata": {
    "collapsed": false,
    "ExecuteTime": {
     "end_time": "2023-11-18T14:15:25.874996200Z",
     "start_time": "2023-11-18T14:15:25.803634700Z"
    }
   },
   "id": "95d07db51628d2d7"
  }
 ],
 "metadata": {
  "kernelspec": {
   "display_name": "Python 3",
   "language": "python",
   "name": "python3"
  },
  "language_info": {
   "codemirror_mode": {
    "name": "ipython",
    "version": 2
   },
   "file_extension": ".py",
   "mimetype": "text/x-python",
   "name": "python",
   "nbconvert_exporter": "python",
   "pygments_lexer": "ipython2",
   "version": "2.7.6"
  }
 },
 "nbformat": 4,
 "nbformat_minor": 5
}
