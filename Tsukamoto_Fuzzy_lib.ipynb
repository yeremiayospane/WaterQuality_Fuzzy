{
 "cells": [
  {
   "cell_type": "code",
   "execution_count": 22,
   "id": "initial_id",
   "metadata": {
    "collapsed": true,
    "ExecuteTime": {
     "end_time": "2023-11-18T14:12:10.556364100Z",
     "start_time": "2023-11-18T14:12:10.541102Z"
    }
   },
   "outputs": [],
   "source": [
    "import numpy as np\n",
    "import skfuzzy as fuzz\n",
    "from skfuzzy import control as ctrl\n",
    "import matplotlib.pyplot as plt"
   ]
  },
  {
   "cell_type": "code",
   "execution_count": 7,
   "outputs": [],
   "source": [
    "# Himpunan pH\n",
    "ph = ctrl.Antecedent(np.arange(0, 15, 0.1), 'pH')\n",
    "ph['asam'] = fuzz.trimf(ph.universe, [0, 0, 6.5])\n",
    "ph['netral'] = fuzz.trimf(ph.universe, [6.5, 8.5, 8.5])\n",
    "ph['basa'] = fuzz.trimf(ph.universe, [8.5, 14, 14])"
   ],
   "metadata": {
    "collapsed": false,
    "ExecuteTime": {
     "end_time": "2023-11-18T14:03:33.502629800Z",
     "start_time": "2023-11-18T14:03:33.436024300Z"
    }
   },
   "id": "767feb451348d2a7"
  },
  {
   "cell_type": "code",
   "execution_count": 8,
   "outputs": [],
   "source": [
    "# Himpunan Temperatur\n",
    "temperature = ctrl.Antecedent(np.arange(0, 100, 0.1), 'temperature')\n",
    "temperature['dingin'] = fuzz.trimf(temperature.universe, [0, 0, 15])\n",
    "temperature['sedang'] = fuzz.trimf(temperature.universe, [15, 25, 25])\n",
    "temperature['panas'] = fuzz.trimf(temperature.universe, [25, 100, 100])"
   ],
   "metadata": {
    "collapsed": false,
    "ExecuteTime": {
     "end_time": "2023-11-18T14:03:33.503637700Z",
     "start_time": "2023-11-18T14:03:33.450422900Z"
    }
   },
   "id": "6313ac705c4dba1f"
  },
  {
   "cell_type": "code",
   "execution_count": 9,
   "outputs": [],
   "source": [
    "# Himpunan Konduktivitas Listrik\n",
    "conductivity = ctrl.Antecedent(np.arange(0, 1000, 0.1), 'conductivity')\n",
    "conductivity['rendah'] = fuzz.trimf(conductivity.universe, [0, 0, 250])\n",
    "conductivity['sedang'] = fuzz.trimf(conductivity.universe, [250, 500, 500])\n",
    "conductivity['tinggi'] = fuzz.trimf(conductivity.universe, [500, 1000, 1000])"
   ],
   "metadata": {
    "collapsed": false,
    "ExecuteTime": {
     "end_time": "2023-11-18T14:03:33.504638Z",
     "start_time": "2023-11-18T14:03:33.468872500Z"
    }
   },
   "id": "10bf68e061cfed91"
  },
  {
   "cell_type": "code",
   "execution_count": 10,
   "outputs": [],
   "source": [
    "# Himpunan Output\n",
    "output = ctrl.Consequent(np.arange(0, 100, 0.1), 'output')\n",
    "output['buruk'] = fuzz.trimf(output.universe, [0, 0, 40])\n",
    "output['cukup'] = fuzz.trimf(output.universe, [30, 50, 70])\n",
    "output['baik'] = fuzz.trimf(output.universe, [60, 100, 100])"
   ],
   "metadata": {
    "collapsed": false,
    "ExecuteTime": {
     "end_time": "2023-11-18T14:03:33.504638Z",
     "start_time": "2023-11-18T14:03:33.485158100Z"
    }
   },
   "id": "2a9d4df9d27c681c"
  },
  {
   "cell_type": "code",
   "execution_count": 11,
   "outputs": [],
   "source": [
    "# Aturan Fuzzy\n",
    "rule1 = ctrl.Rule(ph['asam'] & temperature['dingin'] & conductivity['rendah'], output['buruk'])\n",
    "rule2 = ctrl.Rule(ph['asam'] & temperature['sedang'] & conductivity['rendah'], output['buruk'])\n",
    "rule3 = ctrl.Rule(ph['asam'] & temperature['panas'] & conductivity['rendah'], output['buruk'])\n",
    "\n",
    "rule4 = ctrl.Rule(ph['netral'] & temperature['dingin'] & conductivity['rendah'], output['buruk'])\n",
    "rule5 = ctrl.Rule(ph['netral'] & temperature['sedang'] & conductivity['sedang'], output['cukup'])\n",
    "rule6 = ctrl.Rule(ph['netral'] & temperature['panas'] & conductivity['tinggi'], output['baik'])\n",
    "\n",
    "rule7 = ctrl.Rule(ph['basa'] & temperature['dingin'] & conductivity['tinggi'], output['buruk'])\n",
    "rule8 = ctrl.Rule(ph['basa'] & temperature['sedang'] & conductivity['tinggi'], output['buruk'])\n",
    "rule9 = ctrl.Rule(ph['basa'] & temperature['panas'] & conductivity['tinggi'], output['buruk'])"
   ],
   "metadata": {
    "collapsed": false,
    "ExecuteTime": {
     "end_time": "2023-11-18T14:03:33.519421Z",
     "start_time": "2023-11-18T14:03:33.502629800Z"
    }
   },
   "id": "ad0729f8dae7be5c"
  },
  {
   "cell_type": "code",
   "execution_count": 12,
   "outputs": [],
   "source": [
    "# Sistem Fuzzy\n",
    "system = ctrl.ControlSystem([rule1, rule2, rule3, rule4, rule5, rule6, rule7, rule8, rule9])\n",
    "fuzzy_system = ctrl.ControlSystemSimulation(system)"
   ],
   "metadata": {
    "collapsed": false,
    "ExecuteTime": {
     "end_time": "2023-11-18T14:03:33.561529300Z",
     "start_time": "2023-11-18T14:03:33.513849600Z"
    }
   },
   "id": "57a457d9733fd2ae"
  },
  {
   "cell_type": "code",
   "execution_count": 13,
   "outputs": [],
   "source": [
    "fuzzy_system.input['pH'] = 7\n",
    "fuzzy_system.input['temperature'] = 20\n",
    "fuzzy_system.input['conductivity'] = 300"
   ],
   "metadata": {
    "collapsed": false,
    "ExecuteTime": {
     "end_time": "2023-11-18T14:03:33.561529300Z",
     "start_time": "2023-11-18T14:03:33.546055900Z"
    }
   },
   "id": "dea80c3b01699978"
  },
  {
   "cell_type": "code",
   "execution_count": 17,
   "outputs": [
    {
     "data": {
      "text/plain": "<skfuzzy.control.controlsystem.ControlSystemSimulation at 0x17ab447ee90>"
     },
     "execution_count": 17,
     "metadata": {},
     "output_type": "execute_result"
    }
   ],
   "source": [
    "fuzzy_system.compute()"
   ],
   "metadata": {
    "collapsed": false,
    "ExecuteTime": {
     "end_time": "2023-11-18T14:04:55.606458Z",
     "start_time": "2023-11-18T14:04:55.591987Z"
    }
   },
   "id": "3d55f09849e8aa7c"
  },
  {
   "cell_type": "code",
   "execution_count": 15,
   "outputs": [],
   "source": [
    "result = fuzzy_system.output['output']"
   ],
   "metadata": {
    "collapsed": false,
    "ExecuteTime": {
     "end_time": "2023-11-18T14:03:33.612037100Z",
     "start_time": "2023-11-18T14:03:33.578122600Z"
    }
   },
   "id": "126939c1900433c7"
  },
  {
   "cell_type": "code",
   "execution_count": 16,
   "outputs": [
    {
     "name": "stdout",
     "output_type": "stream",
     "text": [
      "Hasil Fuzzy Tsukamoto: 50.00 (Cukup)\n"
     ]
    }
   ],
   "source": [
    "# Menentukan hasil kategori (baik, cukup, buruk)\n",
    "category = ''\n",
    "if result <= 40:\n",
    "    category = 'Buruk'\n",
    "elif 40 < result <= 70:\n",
    "    category = 'Cukup'\n",
    "else:\n",
    "    category = 'Baik'\n",
    "\n",
    "print(f'Hasil Fuzzy Tsukamoto: {result:.2f} ({category})')"
   ],
   "metadata": {
    "collapsed": false,
    "ExecuteTime": {
     "end_time": "2023-11-18T14:03:33.614052800Z",
     "start_time": "2023-11-18T14:03:33.593496200Z"
    }
   },
   "id": "8d30b8747a612430"
  },
  {
   "cell_type": "code",
   "execution_count": 23,
   "outputs": [
    {
     "data": {
      "text/plain": "<Figure size 640x480 with 1 Axes>",
      "image/png": "[encoded data removed]"
     },
     "metadata": {},
     "output_type": "display_data"
    }
   ],
   "source": [
    "# Visualisasi grafik\n",
    "output.view(sim=fuzzy_system)\n",
    "plt.title(f'Hasil Fuzzy Tsukamoto: {result:.2f} ({category})')\n",
    "plt.show()"
   ],
   "metadata": {
    "collapsed": false,
    "ExecuteTime": {
     "end_time": "2023-11-18T14:12:22.315504200Z",
     "start_time": "2023-11-18T14:12:22.137069500Z"
    }
   },
   "id": "d684eb6d067e0245"
  },
  {
   "cell_type": "code",
   "execution_count": null,
   "outputs": [],
   "source": [],
   "metadata": {
    "collapsed": false
   },
   "id": "e4158653db4f0d5c"
  }
 ],
 "metadata": {
  "kernelspec": {
   "display_name": "Python 3",
   "language": "python",
   "name": "python3"
  },
  "language_info": {
   "codemirror_mode": {
    "name": "ipython",
    "version": 2
   },
   "file_extension": ".py",
   "mimetype": "text/x-python",
   "name": "python",
   "nbconvert_exporter": "python",
   "pygments_lexer": "ipython2",
   "version": "2.7.6"
  }
 },
 "nbformat": 4,
 "nbformat_minor": 5
}
